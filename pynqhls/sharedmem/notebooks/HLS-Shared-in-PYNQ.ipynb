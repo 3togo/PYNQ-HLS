{
 "cells": [
  {
   "cell_type": "markdown",
   "metadata": {},
   "source": [
    "# Computing with Shared-memory HLS Cores in PYNQ\n",
    "\n",
    "This simple notebook demonstrates using an HLS core that communicates data via Shared-Memory Region. The core implemented in the fabric is a simple matrix multiply core. \n",
    "\n",
    "The HLS is below: \n",
    "```C++\n",
    "\n",
    "\n",
    "#include \"mmult.hpp\"\n",
    "\n",
    "// mmult()\n",
    "//     Implements a simple matrix-multiply function in HLS\n",
    "// Parameters:\n",
    "//     A - mata_t\n",
    "//         A 2-dimensional array of mata_t values to be multiplied\n",
    "//                  \n",
    "//     BT - matb_t\n",
    "//         A 2-dimensional array of matb_t values to be multiplied\n",
    "//         BT is the transpose of B\n",
    "//\n",
    "//     C - matc_t\n",
    "//         Matrix multiply output definition\n",
    "// \n",
    "// The dimensions of the arrays are defined in mmult.hpp.\n",
    "void mmult(const mata_t A [A_ROWS][A_COLS],\n",
    "\tconst matb_t BT [B_COLS][B_ROWS],\n",
    "\tmatc_t C [A_ROWS][B_COLS]){\n",
    "/* Define a new AXI-Lite bus named CTRL for offset arguments, and HLS\n",
    "   Status/Control registers (return)*/\n",
    "#pragma HLS INTERFACE s_axilite port=return bundle=CTRL\n",
    "/* Define a new AXI4 Master bus named DATA for memory ports A, BT, and C.  The\n",
    "   argument offset=slave specifies that the the pointers (offset) of A, BT, and\n",
    "   C can be set using register writes in the CTRL axi slave port */\n",
    "#pragma HLS INTERFACE m_axi port=A offset=slave bundle=DATA\n",
    "#pragma HLS INTERFACE m_axi port=BT offset=slave bundle=DATA\n",
    "#pragma HLS INTERFACE m_axi port=C offset=slave bundle=DATA\n",
    "\n",
    "\t// We use the log2 functions in mmult.hpp to determine the correct size\n",
    "\t// of the index variables i, j, and k. Typically, vivado will size these\n",
    "\t// correctly\n",
    "\tap_uint<pynq::log2(A_ROWS) + 1> i = 0;\n",
    "\tap_uint<pynq::log2(B_COLS) + 1> j = 0;\n",
    "\tap_uint<pynq::log2(A_COLS) + 1> k = 0;\n",
    "\n",
    "\t// Perform a simple matrix-multiply with three nested for-loops\n",
    "\tfor(i = 0; i < A_ROWS; ++i){\n",
    "\t\tfor(j = 0; j < B_COLS; ++j){\n",
    "\t\t\tmatc_t sum = 0;\n",
    "\t\t\tfor(k = 0; k < A_ROWS; ++k){\n",
    "#pragma HLS PIPELINE\n",
    "\t\t\t\tsum += A[i][k]*BT[j][k];\n",
    "\t\t\t}\n",
    "\t\t\tC[i][j] = sum;\n",
    "\t\t}\n",
    "\t}\n",
    "}\n",
    "\n",
    "\n",
    "```\n",
    "\n",
    "The HLS Core automatically transposes B for you. The documentation for the PYNQ Overlay can be found by running: \n"
   ]
  },
  {
   "cell_type": "code",
   "execution_count": null,
   "metadata": {},
   "outputs": [],
   "source": [
    "from pynqhls.sharedmem import sharedmemOverlay\n",
    "overlay = sharedmemOverlay('sharedmem.bit')\n",
    "sharedmemOverlay?"
   ]
  },
  {
   "cell_type": "markdown",
   "metadata": {},
   "source": [
    "To begin, generate the random matrices A and B. Compute their product using Numpy's matmul function."
   ]
  },
  {
   "cell_type": "code",
   "execution_count": null,
   "metadata": {
    "collapsed": true
   },
   "outputs": [],
   "source": [
    "import numpy as np\n",
    "\n",
    "A = np.random.randint(-10, 10, size=(10,10))\n",
    "B = np.random.randint(-10, 10, size=(10,10))\n",
    "C = np.matmul(A, B)"
   ]
  },
  {
   "cell_type": "markdown",
   "metadata": {},
   "source": [
    "Next, run the overlay: "
   ]
  },
  {
   "cell_type": "code",
   "execution_count": null,
   "metadata": {},
   "outputs": [],
   "source": [
    "CHLS = overlay.run(A, B)"
   ]
  },
  {
   "cell_type": "markdown",
   "metadata": {},
   "source": [
    "Finally, compare the results: "
   ]
  },
  {
   "cell_type": "code",
   "execution_count": null,
   "metadata": {},
   "outputs": [],
   "source": [
    "if(np.array_equal(CHLS, C)):\n",
    "    print(\"Results are equal!\")\n",
    "else:\n",
    "    print(\"Results are not equal!\")"
   ]
  }
 ],
 "metadata": {
  "kernelspec": {
   "display_name": "Python 3",
   "language": "python",
   "name": "python3"
  },
  "language_info": {
   "codemirror_mode": {
    "name": "ipython",
    "version": 3
   },
   "file_extension": ".py",
   "mimetype": "text/x-python",
   "name": "python",
   "nbconvert_exporter": "python",
   "pygments_lexer": "ipython3",
   "version": "3.6.0"
  }
 },
 "nbformat": 4,
 "nbformat_minor": 2
}
