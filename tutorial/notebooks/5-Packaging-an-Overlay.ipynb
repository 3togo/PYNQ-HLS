{
 "cells": [
  {
   "cell_type": "markdown",
   "metadata": {
    "collapsed": true
   },
   "source": [
    "# Packaging an Overlay\n",
    "\n",
    "This notebook will demonstrate how to package an Overlay. This notebook depends on the previous three notebooks:\n",
    "\n",
    "2. [Creating a Vivado HLS Core](2-Creating-A-Vivado-HLS-Core.ipynb)\n",
    "3. [Building a Vivado Bitstream](3-Building-A-Bitstream.ipynb)\n",
    "4. [Using an HLS core in PYNQ](4-Using-an-HLS-core-in-PYNQ.ipynb)\n",
    "\n",
    "In this notebook you will generate the following file inside the `tutorial` directory:\n",
    "\n",
    "- `setup.py`                     A pip setup file for installing PYNQ packages"
   ]
  },
  {
   "cell_type": "markdown",
   "metadata": {},
   "source": [
    "## Outputs from Previous Steps\n",
    "\n",
    "The first two critical components of a PYNQ overlay are a `.tcl` script file and a `.bit`. These files should have been created in **[Creating a FPGA Bitstream](2-Creating-A-Bitstream.ipynb)** and with the names `stream.tcl` and `stream.bit`. \n",
    "\n",
    "In addition, you will need the `__init__.py` and `stream.py` python files created in **[Using an HLS core in PYNQ](4-Using-an-HLS-core-in-PYNQ.ipynb)**. These files are necessary for communcation between the ARM Processing System and FPGA Programmable Logic.\n",
    "\n",
    "Verify that the following files are in the `/home/xilinx/PYNQ-HLS/tutorial/pynqhls/stream` directory of your PYNQ board.\n",
    "       \n",
    "   1. `stream.tcl`\n",
    "   2. `stream.bit`\n",
    "   3. `stream.py`\n",
    "   4. `__init__.py`\n",
    "   \n",
    "Using [SAMBA](http://pynq.readthedocs.io/en/v2.0/getting_started.html#accessing-files-on-the-board), or SCP, copy these files from your host machine to the directory `/home/xilinx/PYNQ-HLS/tutorial/pynqhls/` on your PYNQ board.\n",
    "\n",
    "Alternatively, you can skip this step by running the command below: "
   ]
  },
  {
   "cell_type": "code",
   "execution_count": 14,
   "metadata": {
    "collapsed": true
   },
   "outputs": [],
   "source": [
    "!cp /home/xilinx/PYNQ-HLS/pynqhls/stream/stream.tcl  /home/xilinx/PYNQ-HLS/tutorial/pynqhls/stream/\n",
    "!cp /home/xilinx/PYNQ-HLS/pynqhls/stream/stream.bit  /home/xilinx/PYNQ-HLS/tutorial/pynqhls/stream/\n",
    "!cp /home/xilinx/PYNQ-HLS/pynqhls/stream/stream.py   /home/xilinx/PYNQ-HLS/tutorial/pynqhls/stream/\n",
    "!cp /home/xilinx/PYNQ-HLS/pynqhls/stream/__init__.py /home/xilinx/PYNQ-HLS/tutorial/pynqhls/stream/"
   ]
  },
  {
   "cell_type": "markdown",
   "metadata": {},
   "source": [
    "## Notebooks Folder\n",
    "\n",
    "Finally, we need to create a `notebooks` folder and populate its contents. Inside of `notebooks` we need to create a `pictures` folder. \n",
    "\n",
    "The following cell will perform this operation:"
   ]
  },
  {
   "cell_type": "code",
   "execution_count": 8,
   "metadata": {},
   "outputs": [],
   "source": [
    "!mkdir /home/xilinx/PYNQ-HLS/tutorial/pynqhls/stream/notebooks\n",
    "!mkdir /home/xilinx/PYNQ-HLS/tutorial/pynqhls/stream/notebooks/pictures"
   ]
  },
  {
   "cell_type": "markdown",
   "metadata": {},
   "source": [
    "You can create your own notebooks inside of this folder, or you can copy the existing demonstration notebook:"
   ]
  },
  {
   "cell_type": "code",
   "execution_count": 10,
   "metadata": {},
   "outputs": [],
   "source": [
    "!cp -r /home/xilinx/PYNQ-HLS/pynqhls/stream/notebooks/*.ipynb /home/xilinx/PYNQ-HLS/tutorial/pynqhls/stream/notebooks"
   ]
  },
  {
   "cell_type": "markdown",
   "metadata": {},
   "source": [
    "## Automating Installation\n",
    "\n",
    "The next step is to automate the installation using [PIP](https://pip.pypa.io).\n",
    "\n",
    "In the previous notebook you added your `streamOverlay` class to the Python Search path. By creating a `setup.py` file and running `pip3.6` you will be able to run your overlay from any Python shell without modifying the search path.\n",
    "\n",
    "To do this, we will create a `setup.py` script in the repository.\n",
    "\n",
    "You cannot skip this step, but fortunately, we provide working code for you.\n",
    "\n",
    "### Creating a setup.py file\n",
    "\n",
    "A `setup.py` file is the central part of distributing a python package using PIP. In this step we will create a simple `setup.py` script that executes the following steps:\n",
    "\n",
    "1. Installs the notebooks folder as a folder with the name `HLS-Tutorial-Output` in the Jupyter Home directory (`/home/xilinx/jupyter_notebooks` on a PYNQ board)\n",
    "2. Installs the overlay (`stream.bit` file, `stream.tcl` file, `__init__.py`, and `stream.py`) from the previous step into the python `site-packages` folder.\n",
    "\n",
    "More documentation regarding `setup.py` and setup scripts can be found on the [distutils documentation page](https://docs.python.org/3/distutils/setupscript.html).\n",
    "\n",
    "Copy and paste the following cell into `setup.py` inside `/home/xilinx/PYNQ-HLS/tutorial/` on your PYNQ board:"
   ]
  },
  {
   "cell_type": "code",
   "execution_count": null,
   "metadata": {
    "collapsed": true
   },
   "outputs": [],
   "source": [
    "from setuptools import setup\n",
    "import os\n",
    "\n",
    "jupyter_dest = '/home/xilinx/jupyter_notebooks'\n",
    "\n",
    "# Find all of the stream notebooks in the stream_src path                                                                                                                                                                                     \n",
    "notebooks_src = 'pynqhls/stream/notebooks/'\n",
    "notebooks_dest = os.path.join(jupyter_dest, 'HLS-Tutorial-Output')\n",
    "notebooks = [os.path.join(notebooks_src, f)\n",
    "             for f in os.listdir(notebooks_src)]\n",
    "\n",
    "# Find all of the tutorial notebook pictures in the pictures_src path                                                                                                                                                                         \n",
    "notebooks_pictures_src = os.path.join(notebooks_src, 'pictures')\n",
    "notebooks_pictures_dest = os.path.join(notebooks_dest, 'pictures')\n",
    "notebooks_pictures = [os.path.join(notebooks_pictures_src, f)\n",
    "                      for f in os.listdir(notebooks_pictures_src)]\n",
    "\n",
    "notebooks.remove(notebooks_pictures_src)\n",
    "\n",
    "setup(name='pynq-hls-tutorial',\n",
    "      version='0.1',\n",
    "      description=\"A simple package describing how to create a PYNQ \\\n",
    "      bitstream with HLS cores\",\n",
    "      author='Dustin Richmond',\n",
    "      author_email='drichmond@eng.ucsd.edu',\n",
    "      url='https://github.com/drichmond/PYNQ-HLS/',\n",
    "      license='BSD-3',\n",
    "      data_files = [(notebooks_dest, notebooks),\n",
    "                    (notebooks_pictures_dest, notebooks_pictures)],\n",
    "      package_dir = {'pynqhls_tutorial': './pynqhls'},\n",
    "      packages=['pynqhls_tutorial', 'pynqhls_tutorial.stream'],\n",
    "      package_data={'':['*.bit', '*.tcl']},\n",
    "      install_requires=['pynq'],\n",
    "      dependency_links=['http://github.com/xilinx/PYNQ.git@v2.0#egg=pynq'],\n",
    ")\n"
   ]
  },
  {
   "cell_type": "markdown",
   "metadata": {},
   "source": [
    "The `setup.py` file starts with a set of variable declarations:\n",
    "\n",
    "- The variable `jupyter_dest` defines the path of the Jupyter Notebooks directory on the PYNQ board. \n",
    "- The variable `notebooks` defines the location of the `.ipynb` notebook files for delivery, and `notebooks_dest` defines the destination. Likewise for `notebooks_pictures_src` and `notebooks_pictures_dest`.\n",
    "\n",
    "Inside the call to `setup()` we pass the arguments [`data_files`](https://docs.python.org/3.6/distutils/setupscript.html#installing-additional-files), [`packages` and `package_dir`](https://docs.python.org/3.6/distutils/setupscript.html#listing-whole-packages), and [`package_data`](https://docs.python.org/3.6/distutils/setupscript.html#installing-package-data). \n",
    "\n",
    "- `data_files` is a list of Relative-Source and Destination-Path tuples used to install non-python files (like notebooks and pictures)\n",
    "- `packages` is a list of Python packages to install\n",
    "- `package_dir` is a dictonary mapping package names to directory locations\n",
    "- `package_data` is a dictionary containing a package and list of relative files that should be included in that package\n",
    "\n",
    "In order to install this as a PYNQ package using `setup.py` we need to modify all four variables, as shown above\n",
    "\n",
    "Once you have saved `setup.py` in `/home/xilinx/PYNQ-HLS/tutorial` you will be able to install the Stream Overlay you have created on your PYNQ board using the cell below:"
   ]
  },
  {
   "cell_type": "code",
   "execution_count": 16,
   "metadata": {},
   "outputs": [
    {
     "name": "stdout",
     "output_type": "stream",
     "text": [
      "Processing /home/xilinx/PYNQ-HLS/tutorial\n",
      "Requirement already satisfied: pynq in /opt/python3.6/lib/python3.6/site-packages (from pynq-hls-tutorial==0.1)\n",
      "Installing collected packages: pynq-hls-tutorial\n",
      "  Running setup.py install for pynq-hls-tutorial ... \u001b[?25ldone\n",
      "\u001b[?25hSuccessfully installed pynq-hls-tutorial-0.1\n"
     ]
    }
   ],
   "source": [
    "!pip3.6 install /home/xilinx/PYNQ-HLS/tutorial/"
   ]
  },
  {
   "cell_type": "markdown",
   "metadata": {},
   "source": [
    "When the command has completed reload this notebook and run the following cell. Note how the package name has changed from `pynqhls` to `pynqhls_tutorial` to avoid conflicts in the Python package namespace: "
   ]
  },
  {
   "cell_type": "code",
   "execution_count": 19,
   "metadata": {},
   "outputs": [],
   "source": [
    "from pynqhls_tutorial.stream import streamOverlay\n",
    "\n",
    "overlay = streamOverlay('stream.bit')"
   ]
  },
  {
   "cell_type": "markdown",
   "metadata": {},
   "source": [
    "If you are successful, you can re-run the same tests from the previous notebook:"
   ]
  },
  {
   "cell_type": "code",
   "execution_count": 20,
   "metadata": {},
   "outputs": [
    {
     "name": "stdout",
     "output_type": "stream",
     "text": [
      "Test Passed\n"
     ]
    }
   ],
   "source": [
    "signal = range(0, 1000)\n",
    "coeffs = [1, 0, 0, 0, 0, 0, 0, 0, 0]\n",
    "output = overlay.run(coeffs, signal)\n",
    "\n",
    "test = [s == o for (s, o) in zip(signal, output)]\n",
    "\n",
    "if False in test:\n",
    "    print(\"Test Failed!\")\n",
    "else:\n",
    "    print(\"Test Passed\")"
   ]
  },
  {
   "cell_type": "markdown",
   "metadata": {
    "collapsed": true
   },
   "source": [
    "## Installing from Git\n",
    "\n",
    "The steps we have shown above install a Python package from a local directory. To install a Python Package from Git you must provide a `setup.py` file in the root directory. \n",
    "\n",
    "These tutorials demonstrate one example of using a `setup.py` file to distribute a PYNQ package. The `setup.py` file we use is shown below: "
   ]
  },
  {
   "cell_type": "code",
   "execution_count": null,
   "metadata": {
    "collapsed": true
   },
   "outputs": [],
   "source": [
    "from setuptools import setup\n",
    "\n",
    "import os\n",
    "\n",
    "jupyter_dest = '/home/xilinx/jupyter_notebooks'\n",
    "\n",
    "# Find all of the tutorial notebooks in the tutorials_src path                                                                                                                                                                                \n",
    "tutorials_src = 'tutorial/notebooks/'\n",
    "tutorials_dest = os.path.join(jupyter_dest, 'HLS-Tutorial')\n",
    "tutorials = [os.path.join(tutorials_src, f)\n",
    "             for f in os.listdir(tutorials_src)]\n",
    "\n",
    "# Find all of the tutorial notebook pictures in the pictures_src path                                                                                                                                                                         \n",
    "pictures_src = os.path.join(tutorials_src, 'pictures')\n",
    "pictures_dest = os.path.join(tutorials_dest, 'pictures')\n",
    "pictures = [os.path.join(pictures_src, f) for f in os.listdir(pictures_src)]\n",
    "\n",
    "# Find all of the stream notebooks in the stream_src path                                                                                                                                                                                     \n",
    "stream_src = 'pynqhls/stream/notebooks/'\n",
    "stream_dest = os.path.join(jupyter_dest, 'HLS-Stream')\n",
    "stream = [os.path.join(stream_src, f)\n",
    "             for f in os.listdir(stream_src)]\n",
    "\n",
    "# Find all of the tutorial notebook pictures in the pictures_src path                                                                                                                                                                         \n",
    "stream_pictures_src = os.path.join(stream_src, 'pictures')\n",
    "stream_pictures_dest = os.path.join(stream_dest, 'pictures')\n",
    "stream_pictures = [os.path.join(stream_pictures_src, f) for f in os.listdir(stream_pictures_src)]\n",
    "\n",
    "tutorials.remove(pictures_src)\n",
    "stream.remove(stream_pictures_src)\n",
    "\n",
    "setup(name='pynq-hls',\n",
    "      version='0.1',\n",
    "      description=\"A simple package describing how to create a PYNQ\\                                                                                                                                                                          \n",
    "            bitstream with HLS cores\",\n",
    "      author='Dustin Richmond',\n",
    "      author_email='drichmond@eng.ucsd.edu',\n",
    "      url='https://github.com/drichmond/PYNQ-HLS/',\n",
    "      license='BSD-3',\n",
    "      data_files = [(tutorials_dest, tutorials),\n",
    "                    (pictures_dest, pictures),\n",
    "                    (stream_dest, stream),\n",
    "                    (stream_pictures_dest, stream_pictures)],\n",
    "      packages=['pynqhls', 'pynqhls.stream'],\n",
    "      package_data={'':['*.bit', '*.tcl']},\n",
    "      install_requires=['pynq'],\n",
    "      dependency_links=['http://github.com/xilinx/PYNQ.git@v2.0#egg=pynq'],\n",
    ")\n"
   ]
  }
 ],
 "metadata": {
  "kernelspec": {
   "display_name": "Python 3",
   "language": "python",
   "name": "python3"
  },
  "language_info": {
   "codemirror_mode": {
    "name": "ipython",
    "version": 3
   },
   "file_extension": ".py",
   "mimetype": "text/x-python",
   "name": "python",
   "nbconvert_exporter": "python",
   "pygments_lexer": "ipython3",
   "version": "3.6.0"
  }
 },
 "nbformat": 4,
 "nbformat_minor": 2
}
