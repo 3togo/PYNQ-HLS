{
 "cells": [
  {
   "cell_type": "markdown",
   "metadata": {
    "collapsed": true
   },
   "source": [
    "# Packaging an Overlay\n",
    "\n",
    "This notebook will demonstrate how to package an Overlay. This notebook depends on the previous three notebooks:\n",
    "\n",
    "2. [Creating a Vivado HLS Core](2-Creating-A-Vivado-HLS-Core.ipynb)\n",
    "3. [Building a Vivado Bitstream](3-Building-A-Bitstream.ipynb)\n",
    "4. [Using an HLS core in PYNQ](4-Using-an-HLS-core-in-PYNQ.ipynb)\n",
    "\n",
    "In this notebook you will generate the following file inside the `tutorial` directory:\n",
    "\n",
    "- `setup.py`\n",
    "\n",
    "This will allow you to install your PYNQ Overlays as Python packages using Pip, and distribute them on GitHub (Like this tutorial was delivered)"
   ]
  },
  {
   "cell_type": "markdown",
   "metadata": {},
   "source": [
    "## Outputs from Previous Steps\n",
    "\n",
    "The first two critical components of a PYNQ overlay are a `.tcl` script file and a `.bit`. These files should have been created in **[Creating a FPGA Bitstream](2-Creating-A-Bitstream.ipynb)** and with the names `sharedmem.tcl` and `sharedmem.bit`. \n",
    "\n",
    "In addition, you will need the `__init__.py` and `sharedmem.py` python files created in **[Using an HLS core in PYNQ](4-Using-an-HLS-core-in-PYNQ.ipynb)**. These files are necessary for communcation between the ARM Processing System and FPGA Programmable Logic."
   ]
  },
  {
   "cell_type": "markdown",
   "metadata": {},
   "source": [
    "Verify that the following files are in the `/home/xilinx/PYNQ-HLS/tutorial/pynqhls/sharedmem` directory of your PYNQ board.\n",
    "   1. `sharedmem.tcl`\n",
    "   2. `sharedmem.bit`\n",
    "   3. `sharedmem.py`\n",
    "   4. `__init__.py`"
   ]
  },
  {
   "cell_type": "code",
   "execution_count": null,
   "metadata": {},
   "outputs": [],
   "source": [
    "!ls /home/xilinx/PYNQ-HLS/tutorial/pynqhls/sharedmem/sharedmem.tcl\n",
    "!ls /home/xilinx/PYNQ-HLS/tutorial/pynqhls/sharedmem/sharedmem.bit\n",
    "!ls /home/xilinx/PYNQ-HLS/tutorial/pynqhls/sharedmem/sharedmem.py\n",
    "!ls /home/xilinx/PYNQ-HLS/tutorial/pynqhls/sharedmem/__init__.py"
   ]
  },
  {
   "cell_type": "markdown",
   "metadata": {},
   "source": [
    "## Notebooks Folder\n",
    "\n",
    "Finally, we need to create a `notebooks` folder and populate its contents. Inside of `notebooks` we need to create a `pictures` folder. \n",
    "\n",
    "The following cell will perform this operation:"
   ]
  },
  {
   "cell_type": "code",
   "execution_count": null,
   "metadata": {},
   "outputs": [],
   "source": [
    "!mkdir /home/xilinx/PYNQ-HLS/tutorial/pynqhls/sharedmem/notebooks\n",
    "!mkdir /home/xilinx/PYNQ-HLS/tutorial/pynqhls/sharedmem/notebooks/pictures"
   ]
  },
  {
   "cell_type": "markdown",
   "metadata": {},
   "source": [
    "You can create your own notebooks inside of this folder, or you can copy the existing demonstration notebook:"
   ]
  },
  {
   "cell_type": "code",
   "execution_count": null,
   "metadata": {},
   "outputs": [],
   "source": [
    "!cp -r /home/xilinx/PYNQ-HLS/pynqhls/sharedmem/notebooks/*.ipynb /home/xilinx/PYNQ-HLS/tutorial/pynqhls/sharedmem/notebooks"
   ]
  },
  {
   "cell_type": "markdown",
   "metadata": {},
   "source": [
    "## Automating Installation\n",
    "\n",
    "The next step is to automate the installation using [PIP](https://pip.pypa.io).\n",
    "\n",
    "In the previous notebook you added your `sharedmemOverlay` class to the Python Search path. By creating a `setup.py` file and running `pip3.6` you will be able to run your overlay from any Python shell without modifying the search path.\n",
    "\n",
    "To do this, we will create a `setup.py` script in the repository.\n",
    "\n",
    "You cannot skip this step, but fortunately, we provide working code for you.\n",
    "\n",
    "### Creating a `setup.py` file\n",
    "\n",
    "A `setup.py` file is the central part of distributing a python package using PIP. In this step we will create a simple `setup.py` script that executes the following steps:\n",
    "\n",
    "1. Installs the notebooks folder as a folder with the name `HLS-Tutorial-Output` in the Jupyter Home directory (`/home/xilinx/jupyter_notebooks` on a PYNQ board)\n",
    "2. Installs the overlay (`sharedmem.bit` file, `sharedmem.tcl` file, `__init__.py`, and `sharedmem.py`) from the previous step into the python `site-packages` folder.\n",
    "\n",
    "More documentation regarding `setup.py` and setup scripts can be found on the [distutils documentation page](https://docs.python.org/3/distutils/setupscript.html).\n",
    "\n",
    "Copy and paste the following cell into `setup.py` inside `/home/xilinx/PYNQ-HLS/tutorial/` on your PYNQ board:"
   ]
  },
  {
   "cell_type": "code",
   "execution_count": null,
   "metadata": {},
   "outputs": [],
   "source": [
    "from setuptools import setup\n",
    "import os\n",
    "\n",
    "jupyter_dest = '/home/xilinx/jupyter_notebooks'\n",
    "\n",
    "# Find all of the tutorial notebooks in the notebooks_src path                                                                                                                                                                                     \n",
    "notebooks_src = 'pynqhls/sharedmem/notebooks/'\n",
    "notebooks_dest = os.path.join(jupyter_dest, 'HLS-Tutorial-Output')\n",
    "notebooks = [os.path.join(notebooks_src, f)\n",
    "             for f in os.listdir(notebooks_src)]\n",
    "\n",
    "# Find all of the tutorial notebook pictures in the pictures_src path                                                                                                                                                                         \n",
    "notebooks_pictures_src = os.path.join(notebooks_src, 'pictures')\n",
    "notebooks_pictures_dest = os.path.join(notebooks_dest, 'pictures')\n",
    "notebooks_pictures = [os.path.join(notebooks_pictures_src, f)\n",
    "                      for f in os.listdir(notebooks_pictures_src)]\n",
    "\n",
    "notebooks.remove(notebooks_pictures_src)\n",
    "\n",
    "setup(name='pynq-hls-tutorial',\n",
    "      version='0.1',\n",
    "      description=\"A simple package describing how to create a PYNQ \\\n",
    "      bitstream with HLS cores\",\n",
    "      author='Your Name',\n",
    "      author_email='youremail@yourinstitution.edu',\n",
    "      license='BSD-3',\n",
    "      data_files = [(notebooks_dest, notebooks),\n",
    "                    (notebooks_pictures_dest, notebooks_pictures)],\n",
    "      package_dir = {'pynqhls_tutorial': './pynqhls'},\n",
    "      packages=['pynqhls_tutorial', 'pynqhls_tutorial.sharedmem'],\n",
    "      package_data={'':['*.bit', '*.tcl']},\n",
    "      install_requires=['pynq'],\n",
    "      dependency_links=['http://github.com/xilinx/PYNQ.git@v2.0#egg=pynq'],\n",
    ")\n"
   ]
  },
  {
   "cell_type": "markdown",
   "metadata": {},
   "source": [
    "The `setup.py` file starts with a set of variable declarations:\n",
    "\n",
    "- The variable `jupyter_dest` defines the path of the Jupyter Notebooks directory on the PYNQ board. \n",
    "- The variable `notebooks` defines the location of the `.ipynb` notebook files for delivery, and `notebooks_dest` defines the destination. Likewise for `notebooks_pictures_src` and `notebooks_pictures_dest`.\n",
    "\n",
    "Inside the call to `setup()` we pass the arguments [`data_files`](https://docs.python.org/3.6/distutils/setupscript.html#installing-additional-files), [`packages` and `package_dir`](https://docs.python.org/3.6/distutils/setupscript.html#listing-whole-packages), and [`package_data`](https://docs.python.org/3.6/distutils/setupscript.html#installing-package-data). \n",
    "\n",
    "- `data_files` is a list of Relative-Source and Destination-Path tuples used to install non-python files (like notebooks and pictures)\n",
    "- `packages` is a list of Python packages to install\n",
    "- `package_dir` is a dictonary mapping package names to directory locations\n",
    "- `package_data` is a dictionary containing a package and list of relative files that should be included in that package\n",
    "\n",
    "In order to install this as a PYNQ package using `setup.py` we need to modify all four variables, as shown above\n",
    "\n",
    "Once you have saved `setup.py` in `/home/xilinx/PYNQ-HLS/tutorial` you will be able to install the IO Overlay you have created on your PYNQ board using the cell below:"
   ]
  },
  {
   "cell_type": "code",
   "execution_count": null,
   "metadata": {},
   "outputs": [],
   "source": [
    "!pip3.6 install /home/xilinx/PYNQ-HLS/tutorial/"
   ]
  },
  {
   "cell_type": "markdown",
   "metadata": {},
   "source": [
    "When the command has completed reload this notebook and run the following cell. Note how the package name has changed from `pynqhls` to `pynqhls_tutorial` to avoid conflicts in the Python package namespace: "
   ]
  },
  {
   "cell_type": "code",
   "execution_count": null,
   "metadata": {},
   "outputs": [],
   "source": [
    "from pynqhls_tutorial.sharedmem import sharedmemOverlay\n",
    "overlay = sharedmemOverlay('sharedmem.bit')"
   ]
  },
  {
   "cell_type": "markdown",
   "metadata": {},
   "source": [
    "If you are successful, you can re-run the same tests from the previous notebook:"
   ]
  },
  {
   "cell_type": "code",
   "execution_count": null,
   "metadata": {},
   "outputs": [],
   "source": [
    "import numpy as np\n",
    "\n",
    "A = np.random.randint(-10, 10, size=(10,10))\n",
    "B = np.random.randint(-10, 10, size=(10,10))\n",
    "C = np.matmul(A, B)\n",
    "CHLS = overlay.run(A, B)\n",
    "np.array_equal(CHLS, C)"
   ]
  },
  {
   "cell_type": "markdown",
   "metadata": {
    "collapsed": true
   },
   "source": [
    "## Installing from Git\n",
    "\n",
    "The steps we have shown above install a Python package from a local directory. To install a Python Package from Git you must provide a `setup.py` file in the root directory. \n",
    "\n",
    "These tutorials demonstrate one example of using a `setup.py` file to distribute a PYNQ Pver;ay. The `setup.py` file we use is shown below: "
   ]
  },
  {
   "cell_type": "code",
   "execution_count": null,
   "metadata": {},
   "outputs": [],
   "source": [
    "from setuptools import setup\n",
    "\n",
    "import os\n",
    "\n",
    "jupyter_dest = '/home/xilinx/jupyter_notebooks'\n",
    "# We provide three tutorials: \n",
    "tutorials = [\"stream\", \"sharedmem\", \"io\"]\n",
    "\n",
    "# Find all of the tutorial notebooks in the tutorials_base path\n",
    "tutorials_base = 'tutorial/notebooks/'\n",
    "tutorials_dest_base = os.path.join(jupyter_dest, 'HLS-Tutorial')\n",
    "\n",
    "data_files = []\n",
    "# For each tutorial, install the notebooks and pictures for the tutorial.\n",
    "for tut in tutorials:\n",
    "    nbsource = os.path.join(tutorials_base, tut)\n",
    "    notebooks = [os.path.join(nbsource, f) for f in os.listdir(nbsource)]\n",
    "    nbdest = os.path.join(tutorials_dest_base, tut)\n",
    "    picsource = os.path.join(nbsource, 'pictures')\n",
    "    pictures = [os.path.join(picsource, f) for f in os.listdir(picsource)]\n",
    "    picdest = os.path.join(nbdest, 'pictures')\n",
    "    notebooks.remove(picsource)\n",
    "    data_files.append((nbdest, notebooks))\n",
    "    data_files.append((picdest, pictures))\n",
    "\n",
    "demo_base = 'pynqhls/'\n",
    "demo_dest_base = os.path.join(jupyter_dest, 'HLS-Demo')\n",
    "\n",
    "# For each tutorial, install the demo notebook and pictures\n",
    "for tut in tutorials:\n",
    "    nbsource = os.path.join(demo_base, tut, 'notebooks')\n",
    "    notebooks = [os.path.join(nbsource, f) for f in os.listdir(nbsource)]\n",
    "    nbdest = os.path.join(demo_dest_base, tut)\n",
    "    picsource = os.path.join(nbsource, 'pictures')\n",
    "    pictures = [os.path.join(picsource, f) for f in os.listdir(picsource)]\n",
    "    picdest = os.path.join(nbdest, 'pictures')\n",
    "    notebooks.remove(picsource)\n",
    "    data_files.append((nbdest, notebooks))\n",
    "    data_files.append((picdest, pictures))\n",
    "\n",
    "setup(name='pynq-hls',\n",
    "      version='0.1',\n",
    "      description=\"A simple package describing how to create a PYNQ\\\n",
    "            bitstream with HLS cores\",\n",
    "      author='Dustin Richmond',\n",
    "      author_email='drichmond@eng.ucsd.edu',\n",
    "      url='https://github.com/drichmond/PYNQ-HLS/',\n",
    "      license='BSD-3',\n",
    "      data_files = data_files,\n",
    "      packages=['pynqhls', 'pynqhls.stream', 'pynqhls.io', 'pynqhls.sharedmem'],\n",
    "      package_data={'':['*.bit', '*.tcl']},\n",
    "      install_requires=['pynq'],\n",
    "      dependency_links=['http://github.com/xilinx/PYNQ.git@v2.0#egg=pynq'],\n",
    ")\n"
   ]
  }
 ],
 "metadata": {
  "kernelspec": {
   "display_name": "Python 3",
   "language": "python",
   "name": "python3"
  },
  "language_info": {
   "codemirror_mode": {
    "name": "ipython",
    "version": 3
   },
   "file_extension": ".py",
   "mimetype": "text/x-python",
   "name": "python",
   "nbconvert_exporter": "python",
   "pygments_lexer": "ipython3",
   "version": "3.6.4"
  }
 },
 "nbformat": 4,
 "nbformat_minor": 2
}
