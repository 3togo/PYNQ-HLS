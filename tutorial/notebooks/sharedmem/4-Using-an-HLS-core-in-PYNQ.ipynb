{
 "cells": [
  {
   "cell_type": "markdown",
   "metadata": {},
   "source": [
    "# Using an HLS core in PYNQ\n",
    "\n",
    "In this notebook we will finally interact with the HLS Core we wrote in [Building a Bitstream](3-Building-A-Bitstream.ipynb)\n"
   ]
  },
  {
   "cell_type": "markdown",
   "metadata": {},
   "source": [
    "## Outputs from **[Building a Bitstream](3-Building-A-Bitstream.ipynb)**\n",
    "\n",
    "The first two critical components of a PYNQ overlay are a `.tcl` script file and a bitfile. These files should have been created in **[Building a Bitstream](3-Building-A-Bitstream.ipynb)** and with the names `sharedmem.tcl` and `sharedmem.bit`.\n",
    "\n",
    "**You can skip this step by running the command below:**"
   ]
  },
  {
   "cell_type": "code",
   "execution_count": null,
   "metadata": {},
   "outputs": [],
   "source": [
    "!cp /home/xilinx/PYNQ-HLS/pynqhls/sharedmem/sharedmem.tcl /home/xilinx/PYNQ-HLS/tutorial/pynqhls/sharedmem/\n",
    "!cp /home/xilinx/PYNQ-HLS/pynqhls/sharedmem/sharedmem.bit /home/xilinx/PYNQ-HLS/tutorial/pynqhls/sharedmem/"
   ]
  },
  {
   "cell_type": "markdown",
   "metadata": {},
   "source": [
    "Otherwise, verify that these files are in the `~/PYNQ-HLS/tutorial/pynqhls/sharedmem` folder of your PYNQ-HLS repository on your **host computer** by running the following commands from Cygwin, or a Bash Terminal.\n",
    "\n",
    "```bash\n",
    "    ls ~/PYNQ-HLS/tutorial/pynqhls/sharedmem/sharedmem.tcl\n",
    "    ls ~/PYNQ-HLS/tutorial/pynqhls/sharedmem/sharedmem.bit\n",
    "```\n",
    "   \n",
    "Using [SAMBA](http://pynq.readthedocs.io/en/v2.0/getting_started.html#accessing-files-on-the-board), or SCP, copy these files from your host machine to the directory `/home/xilinx/PYNQ-HLS/tutorial/pynqhls/sharedmem/` on your PYNQ board.\n",
    "\n",
    "Verify that these files are there by running the following cells: "
   ]
  },
  {
   "cell_type": "code",
   "execution_count": null,
   "metadata": {},
   "outputs": [],
   "source": [
    "!ls /home/xilinx/PYNQ-HLS/tutorial/pynqhls/sharedmem/sharedmem.tcl"
   ]
  },
  {
   "cell_type": "code",
   "execution_count": null,
   "metadata": {},
   "outputs": [],
   "source": [
    "!ls /home/xilinx/PYNQ-HLS/tutorial/pynqhls/sharedmem/sharedmem.bit"
   ]
  },
  {
   "cell_type": "markdown",
   "metadata": {},
   "source": [
    "## Python Files\n",
    "\n",
    "Before we verify that the `sharedmem.tcl` and `sharedmem.bit` files are working correctly, we need to create the Python files that complete our PYNQ Overlay. Two files are required: \n",
    "\n",
    "1. `__init__.py` The Python file that defines an importable Python package\n",
    "2. `sharedmem.py` The Python class that interacts with the FPGA bitstream\n",
    "\n",
    "**To skip this step you can run the following cell: **"
   ]
  },
  {
   "cell_type": "code",
   "execution_count": null,
   "metadata": {},
   "outputs": [],
   "source": [
    "!cp /home/xilinx/PYNQ-HLS/pynqhls/sharedmem/sharedmem.py  /home/xilinx/PYNQ-HLS/tutorial/pynqhls/sharedmem/\n",
    "!cp /home/xilinx/PYNQ-HLS/pynqhls/sharedmem/__init__.py   /home/xilinx/PYNQ-HLS/tutorial/pynqhls/sharedmem/"
   ]
  },
  {
   "cell_type": "markdown",
   "metadata": {},
   "source": [
    "Otherise follow these instructions:\n",
    "\n",
    "### `__init__.py`\n",
    "\n",
    "`__init__.py` is simple, so we will start there. This file defines an importable Python package. \n",
    "\n",
    "Copy the following cell into a file named `__init__.py` in the `/home/xilinx/PYNQ-HLS/tutorial/pynqhls/sharedmem/` directory on your PYNQ board. "
   ]
  },
  {
   "cell_type": "code",
   "execution_count": null,
   "metadata": {},
   "outputs": [],
   "source": [
    "from .sharedmem import sharedmemOverlay"
   ]
  },
  {
   "cell_type": "markdown",
   "metadata": {},
   "source": [
    "This declares the `sharedmemOverlay` Python class to be part of the `sharedmem` package. By residing in the `pynqhls` folder, it is part of the `pynqhls` package, which has its own `__init__.py` file. You can view the contents of that file by executing the cell below: "
   ]
  },
  {
   "cell_type": "code",
   "execution_count": null,
   "metadata": {},
   "outputs": [],
   "source": [
    "!cat /home/xilinx/PYNQ-HLS/tutorial/pynqhls/__init__.py"
   ]
  },
  {
   "cell_type": "markdown",
   "metadata": {},
   "source": [
    "### `sharedmem.py`\n",
    "\n",
    "Next, we create the `sharedmem.py` file that defines the `sharedmemOverlay` class as an interface for our FPGA Bitstream.\n",
    "\n",
    "Copy and paste the following cell into a file named `sharedmem.py` in the `/home/xilinx/PYNQ-HLS/tutorial/pynqhls/sharedmem/` directory on your PYNQ board. \n",
    "\n",
    "This code is analyzed in subsequent cells. "
   ]
  },
  {
   "cell_type": "code",
   "execution_count": null,
   "metadata": {},
   "outputs": [],
   "source": [
    "from pynq import Overlay, GPIO, Register, Xlnk\n",
    "import os\n",
    "import inspect\n",
    "import numpy as np\n",
    "class sharedmemOverlay(Overlay):\n",
    "    \"\"\"A simple Mem-Mapped Overlay for PYNQ.\n",
    "\n",
    "    This overlay is implemented with a single Matrix Multiply Core fed\n",
    "    connected directly to the ARM Core AXI interface.\n",
    "\n",
    "    \"\"\"\n",
    "    __RESET_VALUE = 0\n",
    "    __NRESET_VALUE = 1\n",
    "\n",
    "    \"\"\" For convenince, we define register offsets that are scraped from\n",
    "    the HLS implementation header files.\n",
    "\n",
    "    \"\"\"\n",
    "    __MMULT_AP_CTRL_OFF = 0x00\n",
    "    __MMULT_AP_CTRL_START_IDX = 0\n",
    "    __MMULT_AP_CTRL_DONE_IDX  = 1\n",
    "    __MMULT_AP_CTRL_IDLE_IDX  = 2\n",
    "    __MMULT_AP_CTRL_READY_IDX = 3\n",
    "\n",
    "    __MMULT_GIE_OFF     = 0x04\n",
    "    __MMULT_IER_OFF     = 0x08\n",
    "    __MMULT_ISR_OFF     = 0x0C\n",
    "\n",
    "    __MMULT_ADDR_A_DATA = 0x10\n",
    "    __MMULT_ADDR_BT_DATA = 0x18\n",
    "    __MMULT_ADDR_C_DATA = 0x20\n",
    "\n",
    "    __MMULT_A_SHAPE = (100, 100)\n",
    "    __MMULT_BT_SHAPE = (100, 100)\n",
    "    __MMULT_C_SHAPE = (100, 100)\n",
    "    __MMULT_A_SIZE = __MMULT_A_SHAPE[0] * __MMULT_A_SHAPE[1]\n",
    "    __MMULT_BT_SIZE = __MMULT_BT_SHAPE[0] * __MMULT_BT_SHAPE[1]\n",
    "    __MMULT_C_SIZE = __MMULT_C_SHAPE[0] * __MMULT_C_SHAPE[1]\n",
    "    \n",
    "\n",
    "    def __init__(self, bitfile, **kwargs):\n",
    "        \"\"\"Initializes a new sharedmemOverlay object.\n",
    "\n",
    "        \"\"\"\n",
    "        # The following lines do some path searching to enable a \n",
    "        # PYNQ-Like API for Overlays. For example, without these \n",
    "        # lines you cannot call sharedmemOverlay('sharedmem.bit') because \n",
    "        # sharedmem.bit is not on the bitstream search path. The \n",
    "        # following lines fix this for any non-PYNQ Overlay\n",
    "        #\n",
    "        # You can safely reuse, and ignore the following lines\n",
    "        #\n",
    "        # Get file path of the current class (i.e. /opt/python3.6/<...>/sharedmem.py)\n",
    "        file_path = os.path.abspath(inspect.getfile(inspect.currentframe()))\n",
    "        # Get directory path of the current class (i.e. /opt/python3.6/<...>/sharedmem/)\n",
    "        dir_path = os.path.dirname(file_path)\n",
    "        # Update the bitfile path to search in dir_path\n",
    "        bitfile = os.path.join(dir_path, bitfile)\n",
    "        # Upload the bitfile (and parse the colocated .tcl script)\n",
    "        super().__init__(bitfile, **kwargs)\n",
    "        # Manually define the GPIO pin that drives reset\n",
    "        self.__resetPin = GPIO(GPIO.get_gpio_pin(0), \"out\")\n",
    "        self.nreset()\n",
    "        # Define a Register object at address 0x0 of the mmult address space\n",
    "        # We will use this to set bits and start the core (see start())\n",
    "        # Do NOT write to __ap_ctrl unless __resetPin has been set to __NRESET_VALUE\n",
    "        self.__ap_ctrl = Register(self.mmultCore.mmio.base_addr, 32)\n",
    "        self.__a_offset = Register(self.mmultCore.mmio.base_addr +\n",
    "                                       self.__MMULT_ADDR_A_DATA, 32)\n",
    "        self.__bt_offset = Register(self.mmultCore.mmio.base_addr +\n",
    "                                       self.__MMULT_ADDR_BT_DATA, 32)\n",
    "        self.__c_offset = Register(self.mmultCore.mmio.base_addr +\n",
    "                                       self.__MMULT_ADDR_C_DATA, 32)\n",
    "        self.xlnk = Xlnk()\n",
    "\n",
    "    def __start(self):\n",
    "        \"\"\"Raise AP_START and enable the HLS core\n",
    "\n",
    "        \"\"\"\n",
    "        self.__ap_ctrl[self.__MMULT_AP_CTRL_START_IDX] = 1\n",
    "        pass\n",
    "\n",
    "    def __stop(self):\n",
    "        \"\"\"Lower AP_START and disable the HLS core\n",
    "\n",
    "        \"\"\"\n",
    "        self.__ap_ctrl[self.__MMULT_AP_CTRL_START_IDX] = 0\n",
    "        pass\n",
    "\n",
    "    def nreset(self):\n",
    "        \"\"\"Set the reset pin to self.__NRESET_VALUE to place the core into\n",
    "        not-reset (usually run)\n",
    "\n",
    "        \"\"\"\n",
    "        self.__resetPin.write(self.__NRESET_VALUE)\n",
    "        \n",
    "    def reset(self):\n",
    "        \"\"\"Set the reset pin to self.__RESET_VALUE to place the core into\n",
    "        reset\n",
    "\n",
    "        \"\"\"\n",
    "        self.__resetPin.write(self.__RESET_VALUE)\n",
    "\n",
    "    def run(self, A, B):\n",
    "        \"\"\" Launch computation on the mmult HLS core\n",
    "\n",
    "        Parameters\n",
    "        ----------\n",
    "    \n",
    "        A : Numpy ndarray of at most size TODOxTODO (it will be padded)\n",
    "            A buffer containing ND Array Elements to be transferred to the core\n",
    "\n",
    "        B : Numpy ndarray of at most size TODOxTODO (it will be padded)\n",
    "            A buffer containing ND Array Elements to be transferred to the core\n",
    "\n",
    "        \"\"\"\n",
    "        if(not isinstance(A, np.ndarray)):\n",
    "            raise TypeError(\"Parameter A must be an instance of \"\n",
    "                                   \"numpy.ndarray\")\n",
    "\n",
    "        if(not isinstance(B, np.ndarray)):\n",
    "            raise RuntimeError(\"Parameter B must be an instance of \"\n",
    "                                   \"numpy.ndarray\")\n",
    "        sza = A.shape\n",
    "        if(sza[0] > self.__MMULT_A_SHAPE[0]):\n",
    "            raise RuntimeError(f\"Dimension 0 of A must be less than or equal to\"\n",
    "                                   f\"{self.__MMULT_A_SHAPE[0]}\")\n",
    "        if(sza[1] > self.__MMULT_A_SHAPE[1]):\n",
    "            raise RuntimeError(f\"Dimension 1 of A must be less than or equal to\"\n",
    "                                   f\"{self.__MMULT_A_SHAPE[1]}\")\n",
    "\n",
    "        szb = B.shape\n",
    "        if(szb[0] > self.__MMULT_BT_SHAPE[1]):\n",
    "            raise RuntimeError(f\"Dimension 0 of B must be less than or equal to\"\n",
    "                                   f\"{self.__MMULT_BT_SHAPE[0]}\")\n",
    "        if(szb[1] > self.__MMULT_BT_SHAPE[0]):\n",
    "            raise RuntimeError(f\"Dimension 1 of B must be less than or equal to\"\n",
    "                                   f\"{self.__MMULT_BT_SHAPE[1]}\")\n",
    "\n",
    "\n",
    "        # Check size of A\n",
    "        # Check size of B\n",
    "        # Allocate C\n",
    "        a = self.xlnk.cma_array(self.__MMULT_A_SHAPE, \"int\")\n",
    "        bt = self.xlnk.cma_array(self.__MMULT_BT_SHAPE, \"int\")\n",
    "        c = self.xlnk.cma_array(self.__MMULT_C_SHAPE, \"int\")\n",
    "        # Copy A->a\n",
    "        a[:A.shape[0], :A.shape[1]] = A\n",
    "        # Copy BT->bt\n",
    "        bt[:B.shape[1], :B.shape[0]] = B.transpose()\n",
    "        # TODO: Enable Interrupts\n",
    "        # Write address of a, bt, c to HLS core\n",
    "        self.__a_offset[31:0]  = self.xlnk.cma_get_phy_addr(a.pointer)\n",
    "        self.__bt_offset[31:0] = self.xlnk.cma_get_phy_addr(bt.pointer)\n",
    "        self.__c_offset[31:0]  = self.xlnk.cma_get_phy_addr(c.pointer)\n",
    "        self.__start()\n",
    "        # TODO: Wait for ASYNC Interrupt\n",
    "        # TODO: Clear Interrupt\n",
    "        import time\n",
    "        time.sleep(1)\n",
    "        self.__stop()\n",
    "        C = np.zeros((A.shape[0], B.shape[1]), np.int32)\n",
    "        # Transform C into a Numpy Array\n",
    "        C[:A.shape[0], :B.shape[1]] = c[:A.shape[0], :B.shape[1]]\n",
    "        a.freebuffer()\n",
    "        b.freebuffer()\n",
    "        c.freebuffer()\n",
    "        return C\n"
   ]
  },
  {
   "cell_type": "markdown",
   "metadata": {},
   "source": [
    "The code above defines a the `sharedmemOverlay` class for interacting with the bitfile we've created - **don't be scared by the length, much of it is comments**! \n",
    "\n",
    "#### `__init__`\n",
    "\n",
    "The class begins with an `__init__` method. The first lines in `__init__` method add the class directory to the bitstream search path, so that a bitstream can be loaded using the relative path (e.g. `sharedmem.bit`) instead of the absolute path (e.g. `/opt/python3.6/lib/python3.6/site-packages/pynqhls/sharedmem/sharedmem.bit`). The last lines in `__init__` define the reset pin as a GPIO object, and `Register` objects that point to the address of the HLS core.\n",
    "\n",
    "If you haven't seen the `Register` class before - it is quite useful. It allows you to read and set bits of a single memory location using array indicies. More documentation can be found on the [PYNQ Read The Docs Page](http://pynq.readthedocs.io/en/v2.0/pynq_package/pynq.ps.html#pynq.ps.Register).\n",
    "\n",
    "For example, if there is a register at the address `0xdeadbeef`, you can use the Register class to maniuplate it\n",
    "\n",
    "``` python\n",
    "    foo = Register(0xbeefcafe, 32)\n",
    "    foo[31:8] = 0xc0ffee\n",
    "```\n",
    "Thus bits 31 to 8 of the address `0xbeefcafe` are set to `0xc0ffee`\n",
    "\n",
    "The offset constants used are defined in `xmmult_hw.h` which is generated by Vivado HLS. This file is shown below: \n",
    "\n",
    "```C\n",
    "\n",
    "// CTRL\n",
    "// 0x00 : Control signals\n",
    "//        bit 0  - ap_start (Read/Write/COH) - __MMULT_AP_CTRL_START_IDX in sharedmem.py\n",
    "//        bit 1  - ap_done (Read/COR) - __MMULT_AP_CTRL_DONE_IDX in sharedmem.py\n",
    "//        bit 2  - ap_idle (Read) - __MMULT_AP_CTRL_IDLE_IDX in sharedmem.py\n",
    "//        bit 3  - ap_ready (Read) - __MMULT_AP_CTRL_READY_IDX in sharedmem.py\n",
    "//        bit 7  - auto_restart (Read/Write)\n",
    "//        others - reserved\n",
    "// 0x04 : Global Interrupt Enable Register\n",
    "//        bit 0  - Global Interrupt Enable (Read/Write)\n",
    "//        others - reserved\n",
    "// 0x08 : IP Interrupt Enable Register (Read/Write)\n",
    "//        bit 0  - Channel 0 (ap_done)\n",
    "//        bit 1  - Channel 1 (ap_ready)\n",
    "//        others - reserved\n",
    "// 0x0c : IP Interrupt Status Register (Read/TOW)\n",
    "//        bit 0  - Channel 0 (ap_done)\n",
    "//        bit 1  - Channel 1 (ap_ready)\n",
    "//        others - reserved\n",
    "// 0x10 : Data signal of A_V\n",
    "//        bit 31~0 - A_V[31:0] (Read/Write)\n",
    "// 0x14 : reserved\n",
    "// 0x18 : Data signal of BT_V\n",
    "//        bit 31~0 - BT_V[31:0] (Read/Write)\n",
    "// 0x1c : reserved\n",
    "// 0x20 : Data signal of C_V\n",
    "//        bit 31~0 - C_V[31:0] (Read/Write)\n",
    "// 0x24 : reserved\n",
    "// (SC = Self Clear, COR = Clear on Read, TOW = Toggle on Write, COH = Clear on Handshake)\n",
    "\n",
    "#define XMMULT_CTRL_ADDR_AP_CTRL   0x00 // __MMULT_AP_CTRL_OFF in sharedmem.py\n",
    "#define XMMULT_CTRL_ADDR_GIE       0x04 // __MMULT_GIE_OFF in sharedmem.py\n",
    "#define XMMULT_CTRL_ADDR_IER       0x08 // __MMULT_IER_OFF in sharedmem.py\n",
    "#define XMMULT_CTRL_ADDR_ISR       0x0c // __MMULT_ISR_OFF in sharedmem.py\n",
    "#define XMMULT_CTRL_ADDR_A_V_DATA  0x10 // __MMULT_ADDR_A_DATA in sharedmem.py\n",
    "#define XMMULT_CTRL_BITS_A_V_DATA  32\n",
    "#define XMMULT_CTRL_ADDR_BT_V_DATA 0x18 // __MMULT_ADDR_BT_DATA in sharedmem.py\n",
    "#define XMMULT_CTRL_BITS_BT_V_DATA 32\n",
    "#define XMMULT_CTRL_ADDR_C_V_DATA  0x20 // __MMULT_ADDR_C_DATA in sharedmem.py\n",
    "#define XMMULT_CTRL_BITS_C_V_DATA  32\n",
    "\n",
    "```\n",
    "\n",
    "Following `__init__` there are several methods for operating the overlay:\n",
    "\n",
    "#### `reset` / `nreset`\n",
    "\n",
    "The `reset` method asserts the GPIO Pin at Index 0 to reset the HLS core. This was connected to the `userReset` core in **[Building a Bitstream](3-Building-A-Bitstream.ipynb)**. The `nreset` method does the opposite.\n",
    "\n",
    "#### `__start` / `__stop`\n",
    "\n",
    "The `_start` method sets the *start* control bit, causing the HLS core to begin computation, and the `_stop` method clears it. This bit is at index 0 (`__IO_AP_CTRL_START_IDX`) of the HLS Control Register (`__IO_AP_CTRL_OFF`).\n",
    "\n",
    "#### `run`\n",
    "\n",
    "The `run` method starts computation on the HLS core and waits for the HLS core to terminate by checking the *done* bit at index 1 (`__IO_AP_CTRL_DONE_IDX`) of the HLS Control Register (`__IO_AP_CTRL_OFF`). This means that the HLS core runs once, as if it is a software method.\n",
    "\n",
    "The `run()` method is generally separated into three parts: \n",
    "\n",
    "##### Setup\n",
    "\n",
    "The `run()` method de-asserts reset using the `nreset` method. **This allows registers to be read and written in the HLS core, without hanging the Linux Kernel**. Next, `run()` creates a Contiguous Memory Arrays (CMA) for `A`, `BT`, and `C` in a location accessible by the PL. The data in `A` and `BT` are copied into the allocated arrays The addresses of these CMA objects are written to the HLS Core at `__MMULT_ADDR_A_DATA`, `__MMULT_ADDR_BT_DATA`, and `__MMULT_ADDR_C_DATA`.\n",
    "\n",
    "##### Execution\n",
    "\n",
    "Second, `run()` sets the `AP_START` bit (`__MMULT_AP_CTRL_START_IDX`) of the `AP_CTRL` (`__MMULT_AP_CTRL_OFF`) register to 1 -- **This initiates computation in the core**. The Python class checks the `AP_DONE` bit (`__MMULT_AP_CTRL_DONE_IDX`) of the `AP_CTRL` (`__MMULT_AP_CTRL_OFF`) register and waits until the value is 1. The `run()` method sets the `AP_START` bit of the `AP_CTRL` register to 0.\n",
    "\n",
    "##### Cleanup\n",
    "\n",
    "Finally `run()` copies the result back into a Numpy array, frees the CMA objects for reuse, and then returns the data. **Freeing the Contiguous Memory Array (CMA) is critical** - otherwise the allocator will run out of memory for the DMA Engine to use.\n",
    "\n",
    "More information about the HLS Control registers can be found in the [HLS User Guide](https://www.xilinx.com/support/documentation/sw_manuals/xilinx2017_1/ug902-vivado-high-level-synthesis.pdf)\n"
   ]
  },
  {
   "cell_type": "markdown",
   "metadata": {},
   "source": [
    "## Interacting with the Shared Memory Overlay\n",
    "\n",
    "Once the `__init__.py` and `sharedmem.py` files are in place with `sharedmem.bit` and `sharedmem.tcl`, we can use the overlay.\n",
    "\n",
    "The following cell adds the PYNQ-HLS repository to the Python Package search path. Once we install the overlay, this cell will not be needed:"
   ]
  },
  {
   "cell_type": "code",
   "execution_count": null,
   "metadata": {},
   "outputs": [],
   "source": [
    "import sys\n",
    "sys.path.insert(0, '/home/xilinx/PYNQ-HLS/tutorial/')"
   ]
  },
  {
   "cell_type": "markdown",
   "metadata": {},
   "source": [
    "Like in previous examples, load the PYNQ Overlay: "
   ]
  },
  {
   "cell_type": "code",
   "execution_count": null,
   "metadata": {},
   "outputs": [],
   "source": [
    "from pynqhls.sharedmem import sharedmemOverlay\n",
    "overlay = sharedmemOverlay('sharedmem.bit')"
   ]
  },
  {
   "cell_type": "markdown",
   "metadata": {},
   "source": [
    "Generate random input matricies: "
   ]
  },
  {
   "cell_type": "code",
   "execution_count": null,
   "metadata": {},
   "outputs": [],
   "source": [
    "import numpy as np\n",
    "\n",
    "A = np.random.randint(-10, 10, size=(10,10))\n",
    "B = np.random.randint(-10, 10, size=(10,10))"
   ]
  },
  {
   "cell_type": "markdown",
   "metadata": {},
   "source": [
    "Compute the correct result for checking: "
   ]
  },
  {
   "cell_type": "code",
   "execution_count": null,
   "metadata": {
    "scrolled": true
   },
   "outputs": [],
   "source": [
    "C = np.matmul(A, B)"
   ]
  },
  {
   "cell_type": "markdown",
   "metadata": {},
   "source": [
    "Test your overlay using the `run` method: "
   ]
  },
  {
   "cell_type": "code",
   "execution_count": null,
   "metadata": {},
   "outputs": [],
   "source": [
    "CHLS = overlay.run(A, B)"
   ]
  },
  {
   "cell_type": "markdown",
   "metadata": {},
   "source": [
    "Finally, check the results"
   ]
  },
  {
   "cell_type": "code",
   "execution_count": null,
   "metadata": {},
   "outputs": [],
   "source": [
    "np.array_equal(CHLS, C)"
   ]
  },
  {
   "cell_type": "markdown",
   "metadata": {},
   "source": [
    "And that's it! \n",
    "\n",
    "In the **[Packaging an Overlay](5-Packaging-an-Overlay.ipynb)** notebook we will make a Python Installation script!"
   ]
  }
 ],
 "metadata": {
  "kernelspec": {
   "display_name": "Python 3",
   "language": "python",
   "name": "python3"
  },
  "language_info": {
   "codemirror_mode": {
    "name": "ipython",
    "version": 3
   },
   "file_extension": ".py",
   "mimetype": "text/x-python",
   "name": "python",
   "nbconvert_exporter": "python",
   "pygments_lexer": "ipython3",
   "version": "3.6.4"
  }
 },
 "nbformat": 4,
 "nbformat_minor": 2
}
