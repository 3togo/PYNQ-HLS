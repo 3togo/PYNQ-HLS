{
 "cells": [
  {
   "cell_type": "markdown",
   "metadata": {},
   "source": [
    "# Using an HLS core in PYNQ\n",
    "\n",
    "In this notebook we will finally interact with the HLS Core we wrote in [Building a Bitstream](3-Building-A-Bitstream.ipynb)\n"
   ]
  },
  {
   "cell_type": "markdown",
   "metadata": {},
   "source": [
    "## Outputs from **[Building a Bitstream](3-Building-A-Bitstream.ipynb)**\n",
    "\n",
    "The first two critical components of a PYNQ overlay are a `.tcl` script file and a bitfile. These files should have been created in **[Building a Bitstream](3-Building-A-Bitstream.ipynb)** and with the names `io.tcl` and `io.bit`.\n",
    "\n",
    "**You can skip this step by running the command below:**"
   ]
  },
  {
   "cell_type": "code",
   "execution_count": null,
   "metadata": {},
   "outputs": [],
   "source": [
    "!cp /home/xilinx/PYNQ-HLS/pynqhls/io/io.tcl /home/xilinx/PYNQ-HLS/tutorial/pynqhls/io/\n",
    "!cp /home/xilinx/PYNQ-HLS/pynqhls/io/io.bit /home/xilinx/PYNQ-HLS/tutorial/pynqhls/io/"
   ]
  },
  {
   "cell_type": "markdown",
   "metadata": {},
   "source": [
    "Otherwise, verify that these files are in the `~/PYNQ-HLS/tutorial/pynqhls/io` folder of your PYNQ-HLS repository on your **host computer** by running the following commands from Cygwin, or a Bash Terminal.\n",
    "\n",
    "```bash\n",
    "    ls ~/PYNQ-HLS/tutorial/pynqhls/io/io.tcl\n",
    "    ls ~/PYNQ-HLS/tutorial/pynqhls/io/io.bit\n",
    "```\n",
    "   \n",
    "Using [SAMBA](http://pynq.readthedocs.io/en/v2.0/getting_started.html#accessing-files-on-the-board), or SCP, copy these files from your host machine to the directory `/home/xilinx/PYNQ-HLS/tutorial/pynqhls/io/` on your PYNQ board.\n",
    "\n",
    "Verify that these files are there by running the following cells: "
   ]
  },
  {
   "cell_type": "code",
   "execution_count": null,
   "metadata": {},
   "outputs": [],
   "source": [
    "!ls /home/xilinx/PYNQ-HLS/tutorial/pynqhls/io/io.tcl"
   ]
  },
  {
   "cell_type": "code",
   "execution_count": null,
   "metadata": {},
   "outputs": [],
   "source": [
    "!ls /home/xilinx/PYNQ-HLS/tutorial/pynqhls/io/io.bit"
   ]
  },
  {
   "cell_type": "markdown",
   "metadata": {},
   "source": [
    "## Python Files\n",
    "\n",
    "Before we verify that the `io.tcl` and `io.bit` files are working correctly, we need to create the Python files that complete our PYNQ Overlay. Two files are required: \n",
    "\n",
    "1. `__init__.py` The Python file that defines an importable Python package\n",
    "2. `io.py` The Python class that interacts with the FPGA bitstream\n",
    "\n",
    "**To skip this step you can run the following cell: **"
   ]
  },
  {
   "cell_type": "code",
   "execution_count": null,
   "metadata": {},
   "outputs": [],
   "source": [
    "!cp /home/xilinx/PYNQ-HLS/pynqhls/io/io.py         /home/xilinx/PYNQ-HLS/tutorial/pynqhls/io/\n",
    "!cp /home/xilinx/PYNQ-HLS/pynqhls/io/__init__.py   /home/xilinx/PYNQ-HLS/tutorial/pynqhls/io/"
   ]
  },
  {
   "cell_type": "markdown",
   "metadata": {},
   "source": [
    "Otherise follow these instructions:\n",
    "\n",
    "### `__init__.py`\n",
    "\n",
    "`__init__.py` is simple, so we will start there. This file defines an importable Python package. \n",
    "\n",
    "Copy the following cell into a file named `__init__.py` in the `/home/xilinx/PYNQ-HLS/tutorial/pynqhls/io/` directory on your PYNQ board. "
   ]
  },
  {
   "cell_type": "code",
   "execution_count": null,
   "metadata": {},
   "outputs": [],
   "source": [
    "from .io import ioOverlay"
   ]
  },
  {
   "cell_type": "markdown",
   "metadata": {},
   "source": [
    "This declares the `ioOverlay` Python class to be part of the `io` package. By residing in the `pynqhls` folder, it is part of the `pynqhls` package, which has its own `__init__.py` file. You can view the contents of that file by executing the cell below: "
   ]
  },
  {
   "cell_type": "code",
   "execution_count": null,
   "metadata": {},
   "outputs": [],
   "source": [
    "!cat /home/xilinx/PYNQ-HLS/tutorial/pynqhls/__init__.py"
   ]
  },
  {
   "cell_type": "markdown",
   "metadata": {},
   "source": [
    "### `io.py`\n",
    "\n",
    "Next, we create the `io.py` file that defines the `ioOverlay` class as an interface for our FPGA Bitstream.\n",
    "\n",
    "Copy and paste the following cell into a file named `io.py` in the `/home/xilinx/PYNQ-HLS/tutorial/pynqhls/io/` directory on your PYNQ board. \n",
    "\n",
    "This code is analyzed in subsequent cells. "
   ]
  },
  {
   "cell_type": "code",
   "execution_count": null,
   "metadata": {},
   "outputs": [],
   "source": [
    "from pynq import Overlay, GPIO, Register, MMIO\n",
    "import os\n",
    "import inspect\n",
    "import numpy as np\n",
    "class ioOverlay(Overlay):\n",
    "    \"\"\"A simple Physical IO Overlay for PYNQ.\n",
    "\n",
    "    This overlay is implemented with a single CtrlLoop core\n",
    "    connected directly to the ARM Core AXI interface.\n",
    "\n",
    "    \"\"\"\n",
    "    __RESET_VALUE = 0\n",
    "    __NRESET_VALUE = 1\n",
    "\n",
    "    \"\"\" For convenince, we define register offsets that are scraped from\n",
    "    the HLS implementation header files.\n",
    "\n",
    "    \"\"\"\n",
    "    __IO_AP_CTRL_OFF = 0x00\n",
    "    __IO_AP_CTRL_START_IDX = 0\n",
    "    __IO_AP_CTRL_DONE_IDX  = 1\n",
    "    __IO_AP_CTRL_IDLE_IDX  = 2\n",
    "    __IO_AP_CTRL_READY_IDX = 3\n",
    "    __IO_AP_CTRL_AUTORESTART_IDX = 7\n",
    "\n",
    "    __IO_GIE_OFF     = 0x04\n",
    "    __IO_IER_OFF     = 0x08\n",
    "    __IO_ISR_OFF     = 0x0C\n",
    "    \n",
    "    \"\"\"These define the 'reg' argument to the 'io' HLS function.  The\n",
    "    memory space defined here is shared between the HLS core and the\n",
    "    ARM PS.\n",
    "\n",
    "    \"\"\"\n",
    "    __IO_REG_OFF = 0x200\n",
    "    __IO_REG_LEN = 0x100\n",
    "    def __init__(self, bitfile, **kwargs):\n",
    "        \"\"\"Initializes a new ioOverlay object.\n",
    "\n",
    "        \"\"\"\n",
    "        # The following lines do some path searching to enable a \n",
    "        # PYNQ-Like API for Overlays. For example, without these \n",
    "        # lines you cannot call ioOverlay('io.bit') because \n",
    "        # io.bit is not on the bitstream search path. The \n",
    "        # following lines fix this for any non-PYNQ Overlay\n",
    "        #\n",
    "        # You can safely reuse, and ignore the following lines\n",
    "        #\n",
    "        # Get file path of the current class (i.e. /opt/python3.6/<...>/stream.py)\n",
    "        file_path = os.path.abspath(inspect.getfile(inspect.currentframe()))\n",
    "        # Get directory path of the current class (i.e. /opt/python3.6/<...>/stream/)\n",
    "        dir_path = os.path.dirname(file_path)\n",
    "        # Update the bitfile path to search in dir_path\n",
    "        bitfile = os.path.join(dir_path, bitfile)\n",
    "        # Upload the bitfile (and parse the colocated .tcl script)\n",
    "        super().__init__(bitfile, **kwargs)\n",
    "        # Manually define the GPIO pin that drives reset\n",
    "        self.__resetPin = GPIO(GPIO.get_gpio_pin(0), \"out\")\n",
    "        # Define a Register object at address 0x0 of the IO address space\n",
    "        # We will use this to set bits and start the core (see start())\n",
    "        # Do NOT write to __ap_ctrl unless __resetPin has been set to __NRESET_VALUE\n",
    "        self.nreset()\n",
    "        self.__ap_ctrl = Register(self.ioCore.mmio.base_addr, 32)\n",
    "        self.__hls_reg = MMIO(self.ioCore.mmio.base_addr + self.__IO_REG_OFF,\n",
    "                              self.__IO_REG_LEN)\n",
    "\n",
    "    def __set_autorestart(self):\n",
    "        \"\"\" Set the autorestart bit of the HLS core\n",
    "        \"\"\"\n",
    "        self.__ap_ctrl[self.__IO_AP_CTRL_AUTORESTART_IDX] = 1\n",
    "\n",
    "    def __clear_autorestart(self):\n",
    "        \"\"\" Clear the autorestart bit\n",
    "        \"\"\"\n",
    "        self.__ap_ctrl[self.__IO_AP_CTRL_AUTORESTART_IDX] = 0\n",
    "\n",
    "    def __start(self):\n",
    "        \"\"\"Raise AP_START and enable the HLS core\n",
    "\n",
    "        \"\"\"\n",
    "        self.__ap_ctrl[self.__IO_AP_CTRL_START_IDX] = 1\n",
    "\n",
    "    def __stop(self):\n",
    "        \"\"\"Lower AP_START and disable the HLS core\n",
    "\n",
    "        \"\"\"\n",
    "        self.__ap_ctrl[self.__IO_AP_CTRL_START_IDX] = 0\n",
    "\n",
    "    def nreset(self):\n",
    "        \"\"\"Set the reset pin to self.__NRESET_VALUE to place the core into\n",
    "        not-reset (usually run)\n",
    "\n",
    "        \"\"\"\n",
    "        self.__resetPin.write(self.__NRESET_VALUE)\n",
    "        \n",
    "    def reset(self):\n",
    "        \"\"\"Set the reset pin to self.__RESET_VALUE to place the core into\n",
    "        reset\n",
    "\n",
    "        \"\"\"\n",
    "        self.__resetPin.write(self.__RESET_VALUE)\n",
    "\n",
    "    def launch(self):\n",
    "        \"\"\" Start and detatch computation on the io HLS core\n",
    "        \n",
    "        Returns\n",
    "        -------\n",
    "        Nothing\n",
    "        \n",
    "        \"\"\"        \n",
    "        self.__set_autorestart()\n",
    "        self.__start()\n",
    "        return\n",
    "        \n",
    "    def land(self):\n",
    "        \"\"\" Re-Connect and Terminate Computation on the io HLS core\n",
    "        \n",
    "        Returns\n",
    "        -------\n",
    "        The 4-bit value representing the value of the buttons.\n",
    "        \n",
    "        \"\"\"\n",
    "        self.__clear_autorestart()\n",
    "        while(not self.__ap_ctrl[self.__IO_AP_CTRL_DONE_IDX]):\n",
    "            pass\n",
    "        self.__stop()\n",
    "        return self.__hls_reg.read(0)\n",
    "\n",
    "    def run(self):\n",
    "        \"\"\" Launch computation on the io HLS core\n",
    "        \n",
    "        Returns\n",
    "        -------\n",
    "        The 4-bit value representing the value of the buttons.\n",
    "        \n",
    "        \"\"\"\n",
    "        self.__start()\n",
    "        while(not self.__ap_ctrl[self.__IO_AP_CTRL_DONE_IDX]):\n",
    "            pass\n",
    "        self.__stop()\n",
    "        return self.__hls_reg.read(0)"
   ]
  },
  {
   "cell_type": "markdown",
   "metadata": {},
   "source": [
    "The code above defines a the `ioOverlay` class for interacting with the bitfile we've created - **don't be scared by the length, much of it is comments**! \n",
    "\n",
    "#### `__init__`\n",
    "\n",
    "The class begins with an `__init__` method. The first lines in `__init__` method add the class directory to the bitstream search path, so that a bitstream can be loaded using the relative path (e.g. `io.bit`) instead of the absolute path (e.g. `/opt/python3.6/lib/python3.6/site-packages/pynqhls/io/io.bit`). The last lines in `__init__` define the reset pin as a GPIO object, and a `Register` object that points to the address of the HLS core.\n",
    "\n",
    "If you haven't seen the `Register` class before - it is quite useful. It allows you to read and set bits of a single memory location using array indicies. More documentation can be found on the [PYNQ Read The Docs Page](http://pynq.readthedocs.io/en/v2.0/pynq_package/pynq.ps.html#pynq.ps.Register).\n",
    "\n",
    "For example, if there is a register at the address `0xdeadbeef`, you can use the Register class to maniuplate it\n",
    "\n",
    "``` python\n",
    "    foo = Register(0xbeefcafe, 32)\n",
    "    foo[31:8] = 0xc0ffee\n",
    "```\n",
    "Thus bits 31 to 8 of the address `0xbeefcafe` are set to `0xc0ffee`\n",
    "\n",
    "The offset constants used above are defined in `xctrlloop_hw.h` which is generated by Vivado HLS. This file is shown below: \n",
    "\n",
    "``` C\n",
    "\n",
    "// CTRL\n",
    "// 0x000 : Control signals\n",
    "//         bit 0  - ap_start (Read/Write/COH) - __IO_AP_CTRL_START_IDX in io.py\n",
    "//         bit 1  - ap_done (Read/COR) - __IO_AP_CTRL_DONE_IDX in io.py\n",
    "//         bit 2  - ap_idle (Read) - __IO_AP_CTRL_IDLE_IDX in io.py\n",
    "//         bit 3  - ap_ready (Read) - __IO_AP_CTRL_READY_IDX in io.py\n",
    "//         bit 7  - auto_restart (Read/Write) - __IO_AP_CTRL_AUTORESTART_IDX in io.py\n",
    "//         others - reserved\n",
    "// 0x004 : Global Interrupt Enable Register\n",
    "//         bit 0  - Global Interrupt Enable (Read/Write)\n",
    "//         others - reserved\n",
    "// 0x008 : IP Interrupt Enable Register (Read/Write)\n",
    "//         bit 0  - Channel 0 (ap_done)\n",
    "//         bit 1  - Channel 1 (ap_ready)\n",
    "//         others - reserved\n",
    "// 0x00c : IP Interrupt Status Register (Read/TOW)\n",
    "//         bit 0  - Channel 0 (ap_done)\n",
    "//         bit 1  - Channel 1 (ap_ready)\n",
    "//         others - reserved\n",
    "// 0x200 ~\n",
    "// 0x3ff : Memory 'regs_V' (128 * 32b)\n",
    "//         Word n : bit [31:0] - regs_V[n]\n",
    "// (SC = Self Clear, COR = Clear on Read, TOW = Toggle on Write, COH = Clear on Handshake)\n",
    "\n",
    "#define XCTRLLOOP_CTRL_ADDR_AP_CTRL     0x000 // __IO_AP_CTRL_OFF in io.py\n",
    "#define XCTRLLOOP_CTRL_ADDR_GIE         0x004 // __IO_GIE_OFF in io.py\n",
    "#define XCTRLLOOP_CTRL_ADDR_IER         0x008 // __IO_IER_OFF in io.py\n",
    "#define XCTRLLOOP_CTRL_ADDR_ISR         0x00c // __IO_ISR_OFF in io.py\n",
    "#define XCTRLLOOP_CTRL_ADDR_REGS_V_BASE 0x200 // __IO_REG_OFF in io.py\n",
    "#define XCTRLLOOP_CTRL_ADDR_REGS_V_HIGH 0x3ff\n",
    "#define XCTRLLOOP_CTRL_WIDTH_REGS_V     32\n",
    "#define XCTRLLOOP_CTRL_DEPTH_REGS_V     128   // __IO_REG_LEN in io.py\n",
    "\n",
    "```\n",
    "\n",
    "Following `__init__` there are several methods for operating the overlay:\n",
    "\n",
    "\n",
    "#### `__set_autorestart` / `__clear_autorestart`\n",
    "\n",
    "Every HLS core has a *autorestart* control bit that re-runs the HLS core when it finishes execution. This bit is at index 7 (`__IO_AP_CTRL_AUTORESTART_IDX`) of the HLS Control Register (`__IO_AP_CTRL_OFF`). Setting this bit wraps the HLS core in an implicit `while(autorestart)` loop that only terminates when the autorestart bit is cleared. The `__set_autorestart` method sets the autorestart bit, causing the HLS core to loop when started until `__clear_autorestart` is called. \n",
    "\n",
    "#### `__start` / `__stop`\n",
    "\n",
    "The `_start` method sets the *start* control bit, causing the HLS core to begin computation, and the `_stop` method clears it. This bit is at index 0 (`__IO_AP_CTRL_START_IDX`) of the HLS Control Register (`__IO_AP_CTRL_OFF`).\n",
    "\n",
    "#### `reset` / `nreset`\n",
    "\n",
    "The `reset` method asserts the GPIO Pin at Index 0 to reset the HLS core. This was connected to the `userReset` core in **[Building a Bitstream](3-Building-A-Bitstream.ipynb)**. The `nreset` method does the opposite.\n",
    "\n",
    "#### `launch` / `land`\n",
    "\n",
    "The `launch` method sets the autorestart bit, starts computation on the HLS core, and then returns. Conceptually this launches the HLS core as a separate thread that does not terminate. To terminate the user must call the `land` method, which clears the autorestart bit, and stops computation on the HLS core. \n",
    "\n",
    "#### `run`\n",
    "\n",
    "The `run` method starts computation on the HLS core and waits for the HLS core to terminate by checking the *done* bit at index 1 (`__IO_AP_CTRL_DONE_IDX`) of the HLS Control Register (`__IO_AP_CTRL_OFF`). This means that the HLS core runs once, as if it is a software method.\n",
    "\n",
    "More information about the HLS Control registers can be found in the [HLS User Guide](https://www.xilinx.com/support/documentation/sw_manuals/xilinx2017_1/ug902-vivado-high-level-synthesis.pdf)\n"
   ]
  },
  {
   "cell_type": "markdown",
   "metadata": {},
   "source": [
    "## Interacting with the IO Overlay\n",
    "\n",
    "Once the `__init__.py` and `io.py` files are in place with `io.bit` and `io.tcl`, we can use the overlay.\n",
    "\n",
    "The following cell adds the PYNQ-HLS repository to the Python Package search path. Once we install the overlay, this cell will not be needed:"
   ]
  },
  {
   "cell_type": "code",
   "execution_count": null,
   "metadata": {},
   "outputs": [],
   "source": [
    "import sys\n",
    "sys.path.insert(0, '/home/xilinx/PYNQ-HLS/tutorial/')"
   ]
  },
  {
   "cell_type": "markdown",
   "metadata": {},
   "source": [
    "Like in previous examples, load the PYNQ Overlay: "
   ]
  },
  {
   "cell_type": "code",
   "execution_count": null,
   "metadata": {},
   "outputs": [],
   "source": [
    "from pynqhls.io import ioOverlay\n",
    "overlay = ioOverlay('io.bit')"
   ]
  },
  {
   "cell_type": "markdown",
   "metadata": {},
   "source": [
    "First, we will test the `run` method. Press and hold one of the push buttons on the PYNQ board while executing the following cell. The cell will light the first LED, print a message on the UART pins, and print a value representing the one-hot encoding of the value of the buttons. "
   ]
  },
  {
   "cell_type": "code",
   "execution_count": null,
   "metadata": {
    "scrolled": true
   },
   "outputs": [],
   "source": [
    "buttons = overlay.run()\n",
    "for i in range(4):\n",
    "    if(buttons & (1<<i)):\n",
    "        print(f\"Button {i} is pressed!\")"
   ]
  },
  {
   "cell_type": "markdown",
   "metadata": {},
   "source": [
    "Next, we will test the `launch` and `land` methods. The following cell will execute for 10 seconds. While the cell is executing, the LEDs on the PYNQ board will count upward. "
   ]
  },
  {
   "cell_type": "code",
   "execution_count": null,
   "metadata": {},
   "outputs": [],
   "source": [
    "import time\n",
    "overlay.launch()\n",
    "time.sleep(10)\n",
    "buttons = overlay.land()\n",
    "for i in range(4):\n",
    "    if(buttons & (1<<i)):\n",
    "        print(f\"Button {i} is pressed!\")"
   ]
  },
  {
   "cell_type": "markdown",
   "metadata": {},
   "source": [
    "And that's it! \n",
    "\n",
    "In the **[Packaging an Overlay](5-Packaging-an-Overlay.ipynb)** notebook we will make a Python Installation script!"
   ]
  }
 ],
 "metadata": {
  "kernelspec": {
   "display_name": "Python 3",
   "language": "python",
   "name": "python3"
  },
  "language_info": {
   "codemirror_mode": {
    "name": "ipython",
    "version": 3
   },
   "file_extension": ".py",
   "mimetype": "text/x-python",
   "name": "python",
   "nbconvert_exporter": "python",
   "pygments_lexer": "ipython3",
   "version": "3.6.4"
  }
 },
 "nbformat": 4,
 "nbformat_minor": 2
}
