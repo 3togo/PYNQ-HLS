{
 "cells": [
  {
   "cell_type": "markdown",
   "metadata": {},
   "source": [
    "# How to Use a HLS Core in PYNQ\n",
    "\n",
    "Welcome! This tutorial will walk you through the steps of creating a PYNQ overlay with an AXI-Streaming HLS Core. This guide has five steps:\n",
    "\n",
    "1. [Downloading Dependencies](1-Downloading-Dependencies.ipynb)\n",
    "2. [Creating a Vivado HLS Core](2-Creating-A-Vivado-HLS-Core.ipynb)\n",
    "3. [Building a Vivado Bitstream](3-Building-A-Bitstream.ipynb)\n",
    "4. [Using an HLS core in PYNQ](4-Using-an-HLS-core-in-PYNQ.ipynb)\n",
    "5. [Packaging an Overlay](5-Packaging-an-Overlay.ipynb)\n",
    "\n",
    "At the end of this tutorial you will know how to:\n",
    "\n",
    "1. Package a Vivado HLS Core with AXI interfaces as a Vivado IP \n",
    "2. Build a Bitstream in Vivado HLS\n",
    "3. Interact with an HLS Core in PYNQ\n",
    "4. Package, Install, and Load a custom PYNQ overlay\n",
    "\n",
    "In summary once you have finished this guide, you can apply the same steps to any HLS Core with standard AXI interfaces."
   ]
  },
  {
   "cell_type": "markdown",
   "metadata": {},
   "source": [
    "## Getting Started\n",
    "\n",
    "To complete this guide you will need a PYNQ board and a host computer (with a connection to the internet).\n",
    "\n",
    "To test the internet connection on your host navigate to the [PYNQ Documentation Website](pynq.rtfd.io)\n",
    "\n",
    "We recommend that your PYNQ board has a connection to the internet. To test the internet connection on your PYNQ board run the following cell:"
   ]
  },
  {
   "cell_type": "code",
   "execution_count": 1,
   "metadata": {},
   "outputs": [
    {
     "name": "stdout",
     "output_type": "stream",
     "text": [
      "PING xilinx.com (172.20.101.203) 56(84) bytes of data.\n",
      "64 bytes from xco-dns-01.xilinx.com (172.20.101.203): icmp_seq=1 ttl=60 time=0.730 ms\n",
      "64 bytes from xco-dns-01.xilinx.com (172.20.101.203): icmp_seq=2 ttl=60 time=0.381 ms\n",
      "64 bytes from xco-dns-01.xilinx.com (172.20.101.203): icmp_seq=3 ttl=60 time=0.498 ms\n",
      "64 bytes from xco-dns-01.xilinx.com (172.20.101.203): icmp_seq=4 ttl=60 time=1.36 ms\n",
      "64 bytes from xco-dns-01.xilinx.com (172.20.101.203): icmp_seq=5 ttl=60 time=0.422 ms\n",
      "64 bytes from xco-dns-01.xilinx.com (172.20.101.203): icmp_seq=6 ttl=60 time=0.606 ms\n",
      "64 bytes from xco-dns-01.xilinx.com (172.20.101.203): icmp_seq=7 ttl=60 time=0.398 ms\n",
      "64 bytes from xco-dns-01.xilinx.com (172.20.101.203): icmp_seq=8 ttl=60 time=0.664 ms\n",
      "64 bytes from xco-dns-01.xilinx.com (172.20.101.203): icmp_seq=9 ttl=60 time=0.706 ms\n",
      "64 bytes from xco-dns-01.xilinx.com (172.20.101.203): icmp_seq=10 ttl=60 time=0.632 ms\n",
      "\n",
      "--- xilinx.com ping statistics ---\n",
      "10 packets transmitted, 10 received, 0% packet loss, time 8995ms\n",
      "rtt min/avg/max/mdev = 0.381/0.640/1.364/0.270 ms\n"
     ]
    }
   ],
   "source": [
    "!ping xilinx.com -c 10"
   ]
  },
  {
   "cell_type": "markdown",
   "metadata": {},
   "source": [
    "## A Stylistc Note:\n",
    "\n",
    "Instructions to be run on your host computer will be in `monospace font`. The following cell contains an example step that asks you to clone a repository to your host computer."
   ]
  },
  {
   "cell_type": "markdown",
   "metadata": {
    "collapsed": true
   },
   "source": [
    "Run the following example on your host computer's terminal: \n",
    "\n",
    "    git clone https://github.com/octocat/Spoon-Knife\n",
    "\n",
    "This will clone GitHub's example project onto your host computer. In Windows, the same command can be run inside [Cygwin](https://www.cygwin.com/) or in a [Git Bash shell](https://git-for-windows.github.io/).\n"
   ]
  },
  {
   "cell_type": "markdown",
   "metadata": {},
   "source": [
    "Instructions that will be run on your PYNQ board will be in Jupyter Notebook cells like in the following example. Executing the following cell will run on your PYNQ board"
   ]
  },
  {
   "cell_type": "code",
   "execution_count": 2,
   "metadata": {},
   "outputs": [
    {
     "name": "stdout",
     "output_type": "stream",
     "text": [
      "Cloning into '/home/xilinx/Spoon-Knife'...\n",
      "remote: Counting objects: 16, done.\u001b[K\n",
      "remote: Total 16 (delta 0), reused 0 (delta 0), pack-reused 16\u001b[K\n",
      "Unpacking objects: 100% (16/16), done.\n",
      "Checking connectivity... done.\n"
     ]
    }
   ],
   "source": [
    "!git clone https://github.com/octocat/Spoon-Knife /home/xilinx/Spoon-Knife"
   ]
  }
 ],
 "metadata": {
  "kernelspec": {
   "display_name": "Python 3",
   "language": "python",
   "name": "python3"
  },
  "language_info": {
   "codemirror_mode": {
    "name": "ipython",
    "version": 3
   },
   "file_extension": ".py",
   "mimetype": "text/x-python",
   "name": "python",
   "nbconvert_exporter": "python",
   "pygments_lexer": "ipython3",
   "version": "3.6.4"
  }
 },
 "nbformat": 4,
 "nbformat_minor": 2
}
