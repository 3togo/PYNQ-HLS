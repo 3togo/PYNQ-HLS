{
 "cells": [
  {
   "cell_type": "markdown",
   "metadata": {},
   "source": [
    "# How to Use a HLS Core in PYNQ\n",
    "\n",
    "Welcome! This tutorial will walk you through the steps of creating a PYNQ overlay with an AXI-Streaming HLS Core. This guide has five steps:\n",
    "\n",
    "1. [Downloading Dependencies](1-Downloading-Dependencies.ipynb)\n",
    "2. [Creating a Vivado HLS Core](2-Creating-A-Vivado-HLS-Core.ipynb)\n",
    "3. [Building a Vivado Bitstream](3-Building-A-Bitstream.ipynb)\n",
    "4. [Using an HLS core in PYNQ](4-Using-an-HLS-core-in-PYNQ.ipynb)\n",
    "5. [Packaging an Overlay](5-Packaging-an-Overlay.ipynb)\n",
    "\n",
    "At the end of this tutorial you will know how to:\n",
    "\n",
    "1. Package a Vivado HLS Core with AXI interfaces as a Vivado IP \n",
    "2. Build a Bitstream in Vivado HLS\n",
    "3. Interact with an HLS Core in PYNQ\n",
    "4. Package, Install, and Load a custom PYNQ overlay\n",
    "\n",
    "In summary once you have finished this guide, you can apply the same steps to any HLS Core with standard AXI interfaces."
   ]
  },
  {
   "cell_type": "markdown",
   "metadata": {},
   "source": [
    "## Getting Started\n",
    "\n",
    "To complete this guide you will need a PYNQ board and a host computer (with a connection to the internet).\n",
    "\n",
    "To test the internet connection on your host navigate to the [PYNQ Documentation Website](pynq.rtfd.io)\n",
    "\n",
    "We recommend that your PYNQ board has a connection to the internet. To test the internet connection on your PYNQ board run the following cell:"
   ]
  },
  {
   "cell_type": "code",
   "execution_count": null,
   "metadata": {},
   "outputs": [],
   "source": [
    "!ping xilinx.com -c 10"
   ]
  },
  {
   "cell_type": "markdown",
   "metadata": {},
   "source": [
    "## A Stylistc Note:\n",
    "\n",
    "Instructions to be run on your host computer will be in ```monospace font```. The following cell contains an example step that asks you to clone a repository to your host computer."
   ]
  },
  {
   "cell_type": "markdown",
   "metadata": {
    "collapsed": true
   },
   "source": [
    "Run the following example on your host computer's terminal: \n",
    "\n",
    "```bash\n",
    "\n",
    "    git clone https://github.com/octocat/Spoon-Knife\n",
    "    \n",
    "```\n",
    "\n",
    "This will clone GitHub's example project onto your host computer. In Windows, the same command can be run inside [Cygwin](https://www.cygwin.com/) with the appropriate extension installed.\n"
   ]
  },
  {
   "cell_type": "markdown",
   "metadata": {},
   "source": [
    "Instructions that will be run on your PYNQ board will be in Jupyter Notebook cells like in the following example. Executing the following cell will run on your PYNQ board"
   ]
  },
  {
   "cell_type": "code",
   "execution_count": null,
   "metadata": {},
   "outputs": [],
   "source": [
    "!git clone https://github.com/octocat/Spoon-Knife /home/xilinx/Spoon-Knife"
   ]
  }
 ],
 "metadata": {
  "kernelspec": {
   "display_name": "Python 3",
   "language": "python",
   "name": "python3"
  },
  "language_info": {
   "codemirror_mode": {
    "name": "ipython",
    "version": 3
   },
   "file_extension": ".py",
   "mimetype": "text/x-python",
   "name": "python",
   "nbconvert_exporter": "python",
   "pygments_lexer": "ipython3",
   "version": "3.6.4"
  }
 },
 "nbformat": 4,
 "nbformat_minor": 2
}
