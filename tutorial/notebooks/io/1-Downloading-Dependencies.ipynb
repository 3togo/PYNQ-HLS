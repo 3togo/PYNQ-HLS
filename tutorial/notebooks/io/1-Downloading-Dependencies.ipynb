{
 "cells": [
  {
   "cell_type": "markdown",
   "metadata": {
    "collapsed": true
   },
   "source": [
    "# Downloading Dependencies and Configuring your Environment\n",
    "\n",
    "In this step we will be downloading tools, cloning sources from GitHub, and configuring your environment. These tools will be used in the remainder of this Tutorial. Some of the steps will require downloading packages to your host computer while some will be downloaded to your PYNQ board. \n",
    "\n",
    "The host commands are shown as Bash shell commands. On a Linux host, these can be run from a Bash Terminal. From Windows, you must download [Cygwin](https://www.cygwin.com). "
   ]
  },
  {
   "cell_type": "markdown",
   "metadata": {},
   "source": [
    "# Host Dependencies\n",
    "\n",
    "You will need to install the following programs on your host computer:\n",
    "\n",
    "   1. Git [(Windows & Linux Tutorial)](https://www.atlassian.com/git/tutorials/install-git)\n",
    "   2. Xilinx Vivado WebPack 2017.1 [(Windows & Linux Tutorial - See Chapter 3)](https://www.xilinx.com/support/documentation/sw_manuals/xilinx2017_1/ug973-vivado-release-notes-install-license.pdf)\n",
    "   3. Cygwin (with Git, Meld, GNU Make, python, and openSSH packages) [Tutorial](http://www.mcclean-cooper.com/valentino/cygwin_install/) \n",
    "\n",
    "## Host Repositories\n",
    "   \n",
    "Once these dependencies have been installed you need to run the following commands on your host computer. These will clone the [PYNQ-HLS repository](https://github.com/drichmond/PYNQ-HLS). We have cloned these directories to `/home/xilinx` on our host machine. \n",
    "\n",
    "On Linux, these commands can be run in the terminal. On Windows you will need run these commands from the Cygwin Terminal. \n",
    "\n",
    "Run the following command. This command clones the git repository containing these notebooks and corresponding source files to you host machine:\n",
    "\n",
    "```bash\n",
    "\n",
    "    git clone https://github.com/drichmond/PYNQ-HLS ~/PYNQ-HLS\n",
    "    \n",
    "```"
   ]
  },
  {
   "cell_type": "markdown",
   "metadata": {},
   "source": [
    "# PYNQ Dependencies\n",
    "\n",
    "First, check that your PYNQ board has an internet connection. Run the following cell to test the internet connection on your PYNQ board. You should see 10 responses from google.com. If you do not see 10 responses then check your PYNQ Board's internet connection and try again. "
   ]
  },
  {
   "cell_type": "code",
   "execution_count": null,
   "metadata": {
    "collapsed": true,
    "scrolled": false
   },
   "outputs": [],
   "source": [
    "!ping google.com -c 10 "
   ]
  },
  {
   "cell_type": "markdown",
   "metadata": {},
   "source": [
    "If your board has an internet connection,  you need to download the PYNQ-HLS repository to your PYNQ board. Run the following cell to download it to your PYNQ board."
   ]
  },
  {
   "cell_type": "code",
   "execution_count": null,
   "metadata": {
    "collapsed": true
   },
   "outputs": [],
   "source": [
    "!git clone https://github.com/drichmond/PYNQ-HLS /home/xilinx/PYNQ-HLS\n",
    "!chown -R xilinx:xilinx /home/xilinx/PYNQ-HLS"
   ]
  },
  {
   "cell_type": "markdown",
   "metadata": {},
   "source": [
    "Alternatively, you can copy the repository you cloned in [Host Repositories](1-Downloading-Dependencies.ipynb#Host-Repositories) to your PYNQ board using  [SAMBA](http://pynq.readthedocs.io/en/v2.0/getting_started.html#accessing-files-on-the-board), or SCP\n",
    "\n",
    "You should place the copy of the PYNQ-HLS repository in `/home/xilinx`.\n"
   ]
  },
  {
   "cell_type": "markdown",
   "metadata": {},
   "source": [
    "Verify that the repository has been cloned and that the repository has the correct permissions: "
   ]
  },
  {
   "cell_type": "code",
   "execution_count": null,
   "metadata": {},
   "outputs": [],
   "source": [
    "!ls -l /home/xilinx/PYNQ-HLS"
   ]
  },
  {
   "cell_type": "markdown",
   "metadata": {
    "collapsed": true
   },
   "source": [
    "That's it! You are now ready to move on to the next step **[Creating a Vivado HLS Core](2-Creating-A-Vivado-HLS-Core.ipynb)**"
   ]
  }
 ],
 "metadata": {
  "kernelspec": {
   "display_name": "Python 3",
   "language": "python",
   "name": "python3"
  },
  "language_info": {
   "codemirror_mode": {
    "name": "ipython",
    "version": 3
   },
   "file_extension": ".py",
   "mimetype": "text/x-python",
   "name": "python",
   "nbconvert_exporter": "python",
   "pygments_lexer": "ipython3",
   "version": "3.6.4"
  }
 },
 "nbformat": 4,
 "nbformat_minor": 2
}
